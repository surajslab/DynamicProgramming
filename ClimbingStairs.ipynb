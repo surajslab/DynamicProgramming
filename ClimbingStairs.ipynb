{
  "nbformat": 4,
  "nbformat_minor": 0,
  "metadata": {
    "colab": {
      "name": "ClimbingStairs.ipynb",
      "provenance": [],
      "authorship_tag": "ABX9TyM+0/Fz447lkAh3vhQefVPD",
      "include_colab_link": true
    },
    "kernelspec": {
      "name": "python3",
      "display_name": "Python 3"
    },
    "language_info": {
      "name": "python"
    }
  },
  "cells": [
    {
      "cell_type": "markdown",
      "metadata": {
        "id": "view-in-github",
        "colab_type": "text"
      },
      "source": [
        "<a href=\"https://colab.research.google.com/github/surajslab/DynamicProgramming/blob/main/ClimbingStairs.ipynb\" target=\"_parent\"><img src=\"https://colab.research.google.com/assets/colab-badge.svg\" alt=\"Open In Colab\"/></a>"
      ]
    },
    {
      "cell_type": "markdown",
      "metadata": {
        "id": "qYOSYxVJhiB6"
      },
      "source": [
        "Reference :  https://www.youtube.com/watch?v=Y0lT9Fck7qI&list=PLot-Xpze53lcvx_tjrr_m2lgD2NsRHlNO&index=2"
      ]
    },
    {
      "cell_type": "markdown",
      "metadata": {
        "id": "d6hgD12Ihdza"
      },
      "source": [
        "## Recursive Solution"
      ]
    },
    {
      "cell_type": "code",
      "metadata": {
        "id": "N2rZvqL5fd-N",
        "colab": {
          "base_uri": "https://localhost:8080/"
        },
        "outputId": "264b7ef1-d5a5-4ac2-c382-acc0fdb41ecb"
      },
      "source": [
        "\n",
        "\n",
        "def recur(n,step):\n",
        "\n",
        "  if step==n:\n",
        "    return 1\n",
        "    \n",
        "  elif step>n:\n",
        "    return 0\n",
        "  \n",
        "  return recur(n,step+1)+recur(n,step+2)\n",
        "\n",
        "recur(8,0)\n",
        "\n",
        "\n"
      ],
      "execution_count": 47,
      "outputs": [
        {
          "output_type": "execute_result",
          "data": {
            "text/plain": [
              "34"
            ]
          },
          "metadata": {},
          "execution_count": 47
        }
      ]
    },
    {
      "cell_type": "markdown",
      "metadata": {
        "id": "LlAe9Vg-ioDt"
      },
      "source": [
        "## Recursion with caching"
      ]
    },
    {
      "cell_type": "code",
      "metadata": {
        "id": "4UgnNjeAijSm",
        "colab": {
          "base_uri": "https://localhost:8080/"
        },
        "outputId": "d2afb976-7271-479d-8fa4-3d9824b4425a"
      },
      "source": [
        "dp={}\n",
        "def recurmemo(n,step):\n",
        "\n",
        "  if step==n:\n",
        "    return 1\n",
        "    \n",
        "  elif step>n:\n",
        "    return 0\n",
        "\n",
        "  if step in dp:\n",
        "    return dp[step]\n",
        "  \n",
        "  dp[step]=recurmemo(n,step+1)+recurmemo(n,step+2)\n",
        "  return dp[step]\n",
        "  \n",
        "recurmemo(6,0)\n",
        "  "
      ],
      "execution_count": 44,
      "outputs": [
        {
          "output_type": "execute_result",
          "data": {
            "text/plain": [
              "13"
            ]
          },
          "metadata": {},
          "execution_count": 44
        }
      ]
    },
    {
      "cell_type": "markdown",
      "metadata": {
        "id": "a3opfEKPouOG"
      },
      "source": [
        "## Dynamic Way"
      ]
    },
    {
      "cell_type": "code",
      "metadata": {
        "id": "nUrtnqMAjNph"
      },
      "source": [
        "\n",
        "def dynamic(n):\n",
        "\n",
        "  one=1\n",
        "  two=1\n",
        "\n",
        "  for i in range(n-1):\n",
        "    temp= one\n",
        "    one=one+two\n",
        "    two=temp\n",
        "\n",
        "  return one\n",
        "  "
      ],
      "execution_count": null,
      "outputs": []
    },
    {
      "cell_type": "code",
      "metadata": {
        "colab": {
          "base_uri": "https://localhost:8080/"
        },
        "id": "awZK1Od8o_bT",
        "outputId": "5674930a-61dc-43b4-d928-5c08041a4218"
      },
      "source": [
        "dynamic(6)"
      ],
      "execution_count": 45,
      "outputs": [
        {
          "output_type": "execute_result",
          "data": {
            "text/plain": [
              "13"
            ]
          },
          "metadata": {},
          "execution_count": 45
        }
      ]
    }
  ]
}