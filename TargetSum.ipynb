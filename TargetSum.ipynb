{
  "nbformat": 4,
  "nbformat_minor": 0,
  "metadata": {
    "colab": {
      "name": "TargetSum.ipynb",
      "provenance": [],
      "collapsed_sections": [],
      "authorship_tag": "ABX9TyNMtwWEMkAQwsz/vxw1fUsu",
      "include_colab_link": true
    },
    "kernelspec": {
      "name": "python3",
      "display_name": "Python 3"
    },
    "language_info": {
      "name": "python"
    }
  },
  "cells": [
    {
      "cell_type": "markdown",
      "metadata": {
        "id": "view-in-github",
        "colab_type": "text"
      },
      "source": [
        "<a href=\"https://colab.research.google.com/github/surajslab/DynamicProgramming/blob/main/TargetSum.ipynb\" target=\"_parent\"><img src=\"https://colab.research.google.com/assets/colab-badge.svg\" alt=\"Open In Colab\"/></a>"
      ]
    },
    {
      "cell_type": "markdown",
      "metadata": {
        "id": "DCxmftI2DTq9"
      },
      "source": [
        "Reference ▶ https://www.youtube.com/watch?v=g0npyaQtAQM&list=PLot-Xpze53lcvx_tjrr_m2lgD2NsRHlNO"
      ]
    },
    {
      "cell_type": "markdown",
      "metadata": {
        "id": "YsWtWdZpI2F9"
      },
      "source": [
        "## Recursive Way"
      ]
    },
    {
      "cell_type": "code",
      "metadata": {
        "id": "pYRDAbRZDeTX"
      },
      "source": [
        "\n",
        "def recur(index, sum, target, arr):\n",
        "\n",
        "  if index==len(arr):\n",
        "    return 1 if sum==target else 0\n",
        "\n",
        "  ans= recur(index+1,sum+arr[index],target,arr) + recur(index+1,sum-arr[index],target,arr)\n",
        "\n",
        "  return ans\n",
        "\n",
        "  \n"
      ],
      "execution_count": null,
      "outputs": []
    },
    {
      "cell_type": "code",
      "metadata": {
        "colab": {
          "base_uri": "https://localhost:8080/"
        },
        "id": "ZpKyHfwJKcWk",
        "outputId": "d30f74e2-4c46-4b30-8c77-9110e604b95c"
      },
      "source": [
        "recur(0, 0, 3, [1,1,1,1,1])"
      ],
      "execution_count": null,
      "outputs": [
        {
          "output_type": "execute_result",
          "data": {
            "text/plain": [
              "5"
            ]
          },
          "metadata": {},
          "execution_count": 17
        }
      ]
    },
    {
      "cell_type": "markdown",
      "metadata": {
        "id": "DnLofv9yI6WN"
      },
      "source": [
        "## Dynamic Way with Memoization"
      ]
    },
    {
      "cell_type": "code",
      "metadata": {
        "id": "hAbX1HcpI8GK"
      },
      "source": [
        "\n",
        "dp={}\n",
        "def dynamic(index, sum, target, arr):\n",
        "\n",
        "  if index==len(arr):\n",
        "    return 1 if sum==target else 0\n",
        "\n",
        "  if (index,sum) in dp:\n",
        "    return dp[(index,sum)]\n",
        "\n",
        "  ans= dynamic(index+1,sum+arr[index],target,arr) + dynamic(index+1,sum-arr[index],target,arr)\n",
        "  dp[(index,sum)]=ans\n",
        "\n",
        "  return ans"
      ],
      "execution_count": null,
      "outputs": []
    },
    {
      "cell_type": "code",
      "metadata": {
        "colab": {
          "base_uri": "https://localhost:8080/"
        },
        "id": "ZqqR00oSJguc",
        "outputId": "827f8a22-1cee-4aac-a98a-2c4d10d7bbd8"
      },
      "source": [
        "dynamic(0, 0, 3, [1,1,1,1,1])"
      ],
      "execution_count": null,
      "outputs": [
        {
          "output_type": "execute_result",
          "data": {
            "text/plain": [
              "5"
            ]
          },
          "metadata": {},
          "execution_count": 15
        }
      ]
    }
  ]
}