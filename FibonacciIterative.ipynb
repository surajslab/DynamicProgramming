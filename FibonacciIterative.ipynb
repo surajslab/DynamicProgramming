{
  "nbformat": 4,
  "nbformat_minor": 0,
  "metadata": {
    "colab": {
      "name": "FibonacciIterative.ipynb",
      "provenance": [],
      "authorship_tag": "ABX9TyOkbasikyPCixFPRok4I6Mu",
      "include_colab_link": true
    },
    "kernelspec": {
      "name": "python3",
      "display_name": "Python 3"
    },
    "language_info": {
      "name": "python"
    }
  },
  "cells": [
    {
      "cell_type": "markdown",
      "metadata": {
        "id": "view-in-github",
        "colab_type": "text"
      },
      "source": [
        "<a href=\"https://colab.research.google.com/github/surajslab/DynamicProgramming/blob/main/FibonacciIterative.ipynb\" target=\"_parent\"><img src=\"https://colab.research.google.com/assets/colab-badge.svg\" alt=\"Open In Colab\"/></a>"
      ]
    },
    {
      "cell_type": "code",
      "metadata": {
        "id": "Jm_q9uEQRF3n"
      },
      "source": [
        "def fibo(n):\n",
        "  fibolist=[]\n",
        "  fibolist.append(0)\n",
        "  fibolist.append(1)\n",
        "  i=2\n",
        "\n",
        "  while(i<n):\n",
        "    fibolist.append(fibolist[i-1]+fibolist[i-2])\n",
        "    i+=1\n",
        "\n",
        "  return fibolist[-1]\n"
      ],
      "execution_count": null,
      "outputs": []
    },
    {
      "cell_type": "code",
      "metadata": {
        "id": "XqCFgteqUaYn"
      },
      "source": [
        ""
      ],
      "execution_count": null,
      "outputs": []
    }
  ]
}