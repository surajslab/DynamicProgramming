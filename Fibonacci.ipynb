{
  "nbformat": 4,
  "nbformat_minor": 0,
  "metadata": {
    "colab": {
      "name": "Fibonacci.ipynb",
      "provenance": [],
      "authorship_tag": "ABX9TyOjZmFc650xmoYszfXiM3RR",
      "include_colab_link": true
    },
    "kernelspec": {
      "name": "python3",
      "display_name": "Python 3"
    },
    "language_info": {
      "name": "python"
    }
  },
  "cells": [
    {
      "cell_type": "markdown",
      "metadata": {
        "id": "view-in-github",
        "colab_type": "text"
      },
      "source": [
        "<a href=\"https://colab.research.google.com/github/surajslab/DynamicProgramming/blob/main/Fibonacci.ipynb\" target=\"_parent\"><img src=\"https://colab.research.google.com/assets/colab-badge.svg\" alt=\"Open In Colab\"/></a>"
      ]
    },
    {
      "cell_type": "code",
      "metadata": {
        "colab": {
          "base_uri": "https://localhost:8080/"
        },
        "id": "Sn00eqrz-DcF",
        "outputId": "922cce48-6200-411c-df45-ea260bedb86a"
      },
      "source": [
        "def fibo(n):\n",
        "\n",
        "  num1=0\n",
        "  num2=1\n",
        "  temp=0\n",
        "\n",
        "  if n==1:\n",
        "    return num1\n",
        "\n",
        "  if n==2:\n",
        "    return num2\n",
        "\n",
        "  for i in range(2,n):\n",
        "    temp=num1+num2\n",
        "    num1=num2\n",
        "    num2=temp\n",
        "\n",
        "  return num2\n",
        "\n",
        "fibo(6)\n",
        "  \n",
        "\n",
        "\n",
        "  "
      ],
      "execution_count": null,
      "outputs": [
        {
          "output_type": "execute_result",
          "data": {
            "text/plain": [
              "5"
            ]
          },
          "metadata": {},
          "execution_count": 21
        }
      ]
    },
    {
      "cell_type": "code",
      "metadata": {
        "id": "lVoc7ytBAoPZ"
      },
      "source": [
        ""
      ],
      "execution_count": null,
      "outputs": []
    }
  ]
}