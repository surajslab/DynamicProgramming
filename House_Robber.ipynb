{
  "nbformat": 4,
  "nbformat_minor": 0,
  "metadata": {
    "colab": {
      "name": "House_Robber.ipynb",
      "provenance": [],
      "authorship_tag": "ABX9TyORUvmwNqFI0JrZvHa3OdkY",
      "include_colab_link": true
    },
    "kernelspec": {
      "name": "python3",
      "display_name": "Python 3"
    },
    "language_info": {
      "name": "python"
    }
  },
  "cells": [
    {
      "cell_type": "markdown",
      "metadata": {
        "id": "view-in-github",
        "colab_type": "text"
      },
      "source": [
        "<a href=\"https://colab.research.google.com/github/surajslab/DynamicProgramming/blob/main/House_Robber.ipynb\" target=\"_parent\"><img src=\"https://colab.research.google.com/assets/colab-badge.svg\" alt=\"Open In Colab\"/></a>"
      ]
    },
    {
      "cell_type": "markdown",
      "metadata": {
        "id": "wDxpzYp3fHSa"
      },
      "source": [
        "Reference link : https://www.youtube.com/watch?v=ssTg-l6zG1Q"
      ]
    },
    {
      "cell_type": "code",
      "metadata": {
        "colab": {
          "base_uri": "https://localhost:8080/"
        },
        "id": "llsr--6Pd9kO",
        "outputId": "a39da0b5-b21b-4fda-b46d-d2caa9c15666"
      },
      "source": [
        "def robber(nums):\n",
        "\n",
        "  if nums ==[]:\n",
        "    return 0\n",
        "\n",
        "  if len(nums)==1:\n",
        "    return nums[0]\n",
        "\n",
        "  dp=[0]*len(nums)\n",
        "  \n",
        "\n",
        "\n",
        "  dp[0]=nums[0]\n",
        "  dp[1]=nums[1]\n",
        "\n",
        "  for i in range(2,len(nums)):\n",
        "\n",
        "    dp[i] = max(dp[i-1], nums[i]+dp[i-2])\n",
        "\n",
        "  return dp[-1]\n",
        "\n",
        "\n",
        "robber([1,2,3,1])\n",
        "\n"
      ],
      "execution_count": 2,
      "outputs": [
        {
          "output_type": "execute_result",
          "data": {
            "text/plain": [
              "4"
            ]
          },
          "metadata": {},
          "execution_count": 2
        }
      ]
    },
    {
      "cell_type": "code",
      "metadata": {
        "id": "C2sRd5mPe-Jw"
      },
      "source": [
        ""
      ],
      "execution_count": null,
      "outputs": []
    }
  ]
}