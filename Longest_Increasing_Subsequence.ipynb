{
  "nbformat": 4,
  "nbformat_minor": 0,
  "metadata": {
    "colab": {
      "name": "Longest_Increasing_Subsequence.ipynb",
      "provenance": [],
      "authorship_tag": "ABX9TyPnKs0UmRnf0ZMmOXUjJrY5",
      "include_colab_link": true
    },
    "kernelspec": {
      "name": "python3",
      "display_name": "Python 3"
    },
    "language_info": {
      "name": "python"
    }
  },
  "cells": [
    {
      "cell_type": "markdown",
      "metadata": {
        "id": "view-in-github",
        "colab_type": "text"
      },
      "source": [
        "<a href=\"https://colab.research.google.com/github/surajslab/DynamicProgramming/blob/main/Longest_Increasing_Subsequence.ipynb\" target=\"_parent\"><img src=\"https://colab.research.google.com/assets/colab-badge.svg\" alt=\"Open In Colab\"/></a>"
      ]
    },
    {
      "cell_type": "markdown",
      "metadata": {
        "id": "AE5M2-3ReYfs"
      },
      "source": [
        "Reference: https://www.youtube.com/watch?v=cjWnW0hdF1Y"
      ]
    },
    {
      "cell_type": "code",
      "metadata": {
        "colab": {
          "base_uri": "https://localhost:8080/"
        },
        "id": "SGEo0Zh3dL1n",
        "outputId": "5048c554-c4b4-4777-f422-b34657be0309"
      },
      "source": [
        "def LIS(nums):\n",
        "\n",
        "  dp = [1]*len(nums)\n",
        "\n",
        "  for i in range(len(nums)-1,-1,-1):\n",
        "\n",
        "    for j in range(i+1,len(nums)):\n",
        "\n",
        "      if nums[i]<nums[j]:\n",
        "\n",
        "        dp[i]=max(dp[i],1+dp[j])\n",
        "\n",
        "  return max(dp)\n",
        "\n",
        "LIS([50, 3, 10, 7, 40, 80])\n"
      ],
      "execution_count": 7,
      "outputs": [
        {
          "output_type": "execute_result",
          "data": {
            "text/plain": [
              "4"
            ]
          },
          "metadata": {},
          "execution_count": 7
        }
      ]
    }
  ]
}