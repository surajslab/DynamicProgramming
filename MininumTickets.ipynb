{
  "nbformat": 4,
  "nbformat_minor": 0,
  "metadata": {
    "colab": {
      "name": "MininumTickets.ipynb",
      "provenance": [],
      "authorship_tag": "ABX9TyNuYTPqfnHebzz+PKBgzNbw",
      "include_colab_link": true
    },
    "kernelspec": {
      "name": "python3",
      "display_name": "Python 3"
    },
    "language_info": {
      "name": "python"
    }
  },
  "cells": [
    {
      "cell_type": "markdown",
      "metadata": {
        "id": "view-in-github",
        "colab_type": "text"
      },
      "source": [
        "<a href=\"https://colab.research.google.com/github/surajslab/DynamicProgramming/blob/main/MininumTickets.ipynb\" target=\"_parent\"><img src=\"https://colab.research.google.com/assets/colab-badge.svg\" alt=\"Open In Colab\"/></a>"
      ]
    },
    {
      "cell_type": "markdown",
      "metadata": {
        "id": "2YGacgyrGapX"
      },
      "source": [
        "Reference : https://www.youtube.com/watch?v=WJpwG57ddRQ"
      ]
    },
    {
      "cell_type": "code",
      "metadata": {
        "colab": {
          "base_uri": "https://localhost:8080/"
        },
        "id": "U0ctHrGPGVts",
        "outputId": "e8b0e448-ec18-4366-f06b-b3210e4cb1f9"
      },
      "source": [
        "\n",
        "\n",
        "\n",
        "check=[]\n",
        "  \n",
        "def nextday(indx, duration):\n",
        "\n",
        "  temp= indx\n",
        "  \n",
        "  lastday=days[indx]+duration-1\n",
        "\n",
        "  while temp<len(days) and days[temp] <= lastday :\n",
        "    temp+=1\n",
        "  \n",
        "  return temp\n",
        "\n",
        "\n",
        "\n",
        "def minCost(indx):\n",
        "\n",
        "  if indx==len(days):\n",
        "    return 0\n",
        "\n",
        "  if dp[indx]!=0:\n",
        "    return dp[indx]\n",
        "\n",
        "  dp[indx]= min( \n",
        "      \n",
        "                 costs[0]+minCost(nextday(indx,1)), \n",
        "                 costs[1]+minCost(nextday(indx,7)),\n",
        "                 costs[2]+minCost(nextday(indx,30))\n",
        "                 \n",
        "                 )\n",
        "  return dp[indx]\n",
        "\n",
        "\n",
        "days=[1,4,6,7,8,20]\n",
        "costs=[2,7,15]\n",
        "dp=[0]*len(days)\n",
        "  \n",
        "minCost(0)\n"
      ],
      "execution_count": 5,
      "outputs": [
        {
          "output_type": "stream",
          "name": "stdout",
          "text": [
            "[5, 4, 3, 2, 1, 0]\n"
          ]
        }
      ]
    },
    {
      "cell_type": "code",
      "metadata": {
        "id": "cb1QM4yfN5SN"
      },
      "source": [
        ""
      ],
      "execution_count": null,
      "outputs": []
    }
  ]
}